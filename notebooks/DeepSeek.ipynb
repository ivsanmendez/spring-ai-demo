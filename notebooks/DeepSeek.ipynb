{
 "cells": [
  {
   "cell_type": "code",
   "execution_count": 1,
   "metadata": {},
   "outputs": [
    {
     "name": "stdout",
     "output_type": "stream",
     "text": [
      "Requirement already satisfied: pip in /Users/ivan/0000_Repos/GITHUB/0_ivsanmendez/spring-ai-demo/.venv/lib/python3.11/site-packages (25.0.1)\n",
      "Requirement already satisfied: openai in /Users/ivan/0000_Repos/GITHUB/0_ivsanmendez/spring-ai-demo/.venv/lib/python3.11/site-packages (1.66.2)\n",
      "Requirement already satisfied: anyio<5,>=3.5.0 in /Users/ivan/0000_Repos/GITHUB/0_ivsanmendez/spring-ai-demo/.venv/lib/python3.11/site-packages (from openai) (4.8.0)\n",
      "Requirement already satisfied: distro<2,>=1.7.0 in /Users/ivan/0000_Repos/GITHUB/0_ivsanmendez/spring-ai-demo/.venv/lib/python3.11/site-packages (from openai) (1.9.0)\n",
      "Requirement already satisfied: httpx<1,>=0.23.0 in /Users/ivan/0000_Repos/GITHUB/0_ivsanmendez/spring-ai-demo/.venv/lib/python3.11/site-packages (from openai) (0.28.1)\n",
      "Requirement already satisfied: jiter<1,>=0.4.0 in /Users/ivan/0000_Repos/GITHUB/0_ivsanmendez/spring-ai-demo/.venv/lib/python3.11/site-packages (from openai) (0.9.0)\n",
      "Requirement already satisfied: pydantic<3,>=1.9.0 in /Users/ivan/0000_Repos/GITHUB/0_ivsanmendez/spring-ai-demo/.venv/lib/python3.11/site-packages (from openai) (2.10.6)\n",
      "Requirement already satisfied: sniffio in /Users/ivan/0000_Repos/GITHUB/0_ivsanmendez/spring-ai-demo/.venv/lib/python3.11/site-packages (from openai) (1.3.1)\n",
      "Requirement already satisfied: tqdm>4 in /Users/ivan/0000_Repos/GITHUB/0_ivsanmendez/spring-ai-demo/.venv/lib/python3.11/site-packages (from openai) (4.67.1)\n",
      "Requirement already satisfied: typing-extensions<5,>=4.11 in /Users/ivan/0000_Repos/GITHUB/0_ivsanmendez/spring-ai-demo/.venv/lib/python3.11/site-packages (from openai) (4.12.2)\n",
      "Requirement already satisfied: idna>=2.8 in /Users/ivan/0000_Repos/GITHUB/0_ivsanmendez/spring-ai-demo/.venv/lib/python3.11/site-packages (from anyio<5,>=3.5.0->openai) (3.10)\n",
      "Requirement already satisfied: certifi in /Users/ivan/0000_Repos/GITHUB/0_ivsanmendez/spring-ai-demo/.venv/lib/python3.11/site-packages (from httpx<1,>=0.23.0->openai) (2025.1.31)\n",
      "Requirement already satisfied: httpcore==1.* in /Users/ivan/0000_Repos/GITHUB/0_ivsanmendez/spring-ai-demo/.venv/lib/python3.11/site-packages (from httpx<1,>=0.23.0->openai) (1.0.7)\n",
      "Requirement already satisfied: h11<0.15,>=0.13 in /Users/ivan/0000_Repos/GITHUB/0_ivsanmendez/spring-ai-demo/.venv/lib/python3.11/site-packages (from httpcore==1.*->httpx<1,>=0.23.0->openai) (0.14.0)\n",
      "Requirement already satisfied: annotated-types>=0.6.0 in /Users/ivan/0000_Repos/GITHUB/0_ivsanmendez/spring-ai-demo/.venv/lib/python3.11/site-packages (from pydantic<3,>=1.9.0->openai) (0.7.0)\n",
      "Requirement already satisfied: pydantic-core==2.27.2 in /Users/ivan/0000_Repos/GITHUB/0_ivsanmendez/spring-ai-demo/.venv/lib/python3.11/site-packages (from pydantic<3,>=1.9.0->openai) (2.27.2)\n",
      "Requirement already satisfied: python-dotenv in /Users/ivan/0000_Repos/GITHUB/0_ivsanmendez/spring-ai-demo/.venv/lib/python3.11/site-packages (1.0.1)\n"
     ]
    }
   ],
   "source": [
    "import io, os, sys, types\n",
    "!{sys.executable} -m pip install --upgrade pip\n",
    "!{sys.executable} -m pip install openai\n",
    "!{sys.executable} -m pip install python-dotenv"
   ]
  },
  {
   "cell_type": "markdown",
   "metadata": {},
   "source": [
    "# First connection to Deep Seek Generative AI"
   ]
  },
  {
   "cell_type": "code",
   "execution_count": 2,
   "metadata": {},
   "outputs": [
    {
     "name": "stdout",
     "output_type": "stream",
     "text": [
      "Hello! How can I assist you today? 😊\n"
     ]
    }
   ],
   "source": [
    "from dotenv import load_dotenv\n",
    "from openai import OpenAI\n",
    "\n",
    "load_dotenv(\"../.env.local\")\n",
    "DEEPSEEK_API_KEY = os.getenv(\"DEEPSEEK_API_KEY\")\n",
    "\n",
    "client = OpenAI(api_key=DEEPSEEK_API_KEY, base_url=\"https://api.deepseek.com\")\n",
    "\n",
    "response = client.chat.completions.create(\n",
    "    model=\"deepseek-chat\",\n",
    "    messages=[\n",
    "        {\"role\": \"system\", \"content\": \"You are a helpful assistant\"},\n",
    "        {\"role\": \"user\", \"content\": \"Hello\"},\n",
    "    ],\n",
    "    stream=False\n",
    ")\n",
    "\n",
    "print(response.choices[0].message.content)"
   ]
  }
 ],
 "metadata": {
  "kernelspec": {
   "display_name": ".venv",
   "language": "python",
   "name": "python3"
  },
  "language_info": {
   "codemirror_mode": {
    "name": "ipython",
    "version": 3
   },
   "file_extension": ".py",
   "mimetype": "text/x-python",
   "name": "python",
   "nbconvert_exporter": "python",
   "pygments_lexer": "ipython3",
   "version": "3.11.5"
  }
 },
 "nbformat": 4,
 "nbformat_minor": 2
}
